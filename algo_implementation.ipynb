{
 "cells": [
  {
   "cell_type": "markdown",
   "id": "4721daf7-41b0-4d35-a18f-18e96221db25",
   "metadata": {},
   "source": [
    "# Algorithm Design Manual - Algorithm Implementations"
   ]
  },
  {
   "cell_type": "markdown",
   "id": "52fc98e8-4377-4f7d-bbed-0e79fdc20b5d",
   "metadata": {},
   "source": [
    "## Sorting Algorithms"
   ]
  },
  {
   "cell_type": "markdown",
   "id": "2f2af70f-997e-4656-9648-bd826767c3d5",
   "metadata": {
    "tags": []
   },
   "source": [
    "### Insertion Sort"
   ]
  },
  {
   "cell_type": "code",
   "execution_count": 10,
   "id": "629dea48-9aeb-48ef-9eed-c3c57b1aeea6",
   "metadata": {},
   "outputs": [],
   "source": [
    "def insertion_sort(array):\n",
    "    \n",
    "    for i in range(1, len(array)):\n",
    "        j = i\n",
    "        \n",
    "        while (j>0) & (array[j] < array[j-1]):\n",
    "            array[j], array[j-1] = array[j-1], array[j]\n",
    "            j -= 1\n",
    "    \n",
    "    return array"
   ]
  },
  {
   "cell_type": "code",
   "execution_count": 11,
   "id": "6d0e1317-f284-4b4e-8beb-862cb4f6b93a",
   "metadata": {},
   "outputs": [
    {
     "data": {
      "text/plain": [
       "[1, 3, 5, 8, 9]"
      ]
     },
     "execution_count": 11,
     "metadata": {},
     "output_type": "execute_result"
    }
   ],
   "source": [
    "insertion_sort([5, 3, 9, 8, 1])"
   ]
  }
 ],
 "metadata": {
  "kernelspec": {
   "display_name": "Python 3",
   "language": "python",
   "name": "python3"
  },
  "language_info": {
   "codemirror_mode": {
    "name": "ipython",
    "version": 3
   },
   "file_extension": ".py",
   "mimetype": "text/x-python",
   "name": "python",
   "nbconvert_exporter": "python",
   "pygments_lexer": "ipython3",
   "version": "3.6.9"
  }
 },
 "nbformat": 4,
 "nbformat_minor": 5
}
